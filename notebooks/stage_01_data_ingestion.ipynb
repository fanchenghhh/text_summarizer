{
 "cells": [
  {
   "cell_type": "code",
   "execution_count": 3,
   "metadata": {},
   "outputs": [],
   "source": [
    "import os"
   ]
  },
  {
   "cell_type": "code",
   "execution_count": 4,
   "metadata": {},
   "outputs": [],
   "source": [
    "os.chdir(\"../\")"
   ]
  },
  {
   "cell_type": "code",
   "execution_count": 13,
   "metadata": {},
   "outputs": [],
   "source": [
    "from dataclasses import dataclass\n",
    "from pathlib import Path\n",
    "\n",
    "@dataclass(frozen=True)\n",
    "class DataIngestionConfig:\n",
    "    download_url: str\n",
    "    local_data_file: Path\n",
    "    unzip_dir: Path"
   ]
  },
  {
   "cell_type": "code",
   "execution_count": 14,
   "metadata": {},
   "outputs": [],
   "source": [
    "from pathlib import Path\n",
    "from textSummarizer.constants import CONFIG_FILE, PARAM_FILE\n",
    "from textSummarizer.utils import read_yaml\n",
    "\n",
    "\n",
    "class ConfigManager:\n",
    "    def __init__(self, config_file: Path = CONFIG_FILE, param_file: Path = PARAM_FILE):\n",
    "        self.config = read_yaml(config_file)\n",
    "        self.param = read_yaml(param_file)\n",
    "\n",
    "        Path(self.config.artifact_root).mkdir(parents=True, exist_ok=True)\n",
    "    \n",
    "    def get_data_ingestion_config(self) -> DataIngestionConfig:\n",
    "        config = self.config.data_ingestion\n",
    "\n",
    "        return DataIngestionConfig(\n",
    "            download_url =config.download_url, \n",
    "            local_data_file =Path(config.local_data_file), \n",
    "            unzip_dir =Path(config.unzip_dir), \n",
    "            )"
   ]
  },
  {
   "cell_type": "code",
   "execution_count": 20,
   "metadata": {},
   "outputs": [],
   "source": [
    "import os\n",
    "import urllib.request as request\n",
    "import zipfile\n",
    "from textSummarizer.logging import logger\n",
    "\n",
    "class DataIngestion:\n",
    "    def __init__(self, config: DataIngestionConfig):\n",
    "        self.config = config\n",
    "    \n",
    "    def download_data(self):\n",
    "        self.config.local_data_file.parent.mkdir(parents=True, exist_ok=True)\n",
    "        if not self.config.local_data_file.exists():\n",
    "            filename, headers = request.urlretrieve(\n",
    "                url=self.config.download_url,\n",
    "                filename=self.config.local_data_file\n",
    "            )\n",
    "            logger.info(f\"{filename} downloaded!\")\n",
    "        else:\n",
    "            logger.info(f\"{self.config.local_data_file} exists already!\")\n",
    "        \n",
    "\n",
    "    def unzip_data(self):\n",
    "        self.config.unzip_dir.mkdir(parents=True, exist_ok=True)\n",
    "        with zipfile.ZipFile(self.config.local_data_file, 'r') as zip_ref:\n",
    "            zip_ref.extractall(self.config.unzip_dir)\n",
    "            logger.info(f\"unzip {self.config.unzip_dir}\")"
   ]
  },
  {
   "cell_type": "code",
   "execution_count": 21,
   "metadata": {},
   "outputs": [
    {
     "name": "stdout",
     "output_type": "stream",
     "text": [
      "2024-02-29 16:53:26,666 - INFO - __init__ - Reading configs/config.yaml ......\n",
      "2024-02-29 16:53:26,737 - INFO - __init__ - Reading params/param.yaml ......\n",
      "2024-02-29 16:53:26,742 - INFO - 3826109236 - artifacts/data_ingestion/data.zip exists already!\n",
      "2024-02-29 16:53:27,163 - INFO - 3826109236 - unzip artifacts/data_ingestion\n"
     ]
    }
   ],
   "source": [
    "config_manager = ConfigManager()\n",
    "data_ingestion_config = config_manager.get_data_ingestion_config()\n",
    "data_ingestion = DataIngestion(data_ingestion_config)\n",
    "data_ingestion.download_data()\n",
    "data_ingestion.unzip_data()"
   ]
  },
  {
   "cell_type": "code",
   "execution_count": null,
   "metadata": {},
   "outputs": [],
   "source": []
  }
 ],
 "metadata": {
  "kernelspec": {
   "display_name": "text_summarizer",
   "language": "python",
   "name": "python3"
  },
  "language_info": {
   "codemirror_mode": {
    "name": "ipython",
    "version": 3
   },
   "file_extension": ".py",
   "mimetype": "text/x-python",
   "name": "python",
   "nbconvert_exporter": "python",
   "pygments_lexer": "ipython3",
   "version": "3.8.18"
  }
 },
 "nbformat": 4,
 "nbformat_minor": 2
}
