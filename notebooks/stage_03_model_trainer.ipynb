{
 "cells": [
  {
   "cell_type": "code",
   "execution_count": 1,
   "metadata": {},
   "outputs": [],
   "source": [
    "import os\n",
    "os.environ[\"HF_ENDPOINT\"] = \"https://hf-mirror.com\""
   ]
  },
  {
   "cell_type": "code",
   "execution_count": 2,
   "metadata": {},
   "outputs": [],
   "source": [
    "os.chdir(\"../\")"
   ]
  },
  {
   "cell_type": "code",
   "execution_count": 3,
   "metadata": {},
   "outputs": [],
   "source": [
    "from dataclasses import dataclass\n",
    "from pathlib import Path\n",
    "\n",
    "@dataclass(frozen=True)\n",
    "class ModelTrainerConfig:\n",
    "    model_name: str\n",
    "    dataset_dir: Path\n",
    "    model_save_to_dir: Path\n",
    "    tokenizer_save_to_dir: Path"
   ]
  },
  {
   "cell_type": "code",
   "execution_count": 4,
   "metadata": {},
   "outputs": [],
   "source": [
    "from pathlib import Path\n",
    "from textSummarizer.constants import CONFIG_FILE, PARAM_FILE\n",
    "from textSummarizer.utils import read_yaml\n",
    "\n",
    "\n",
    "class ConfigManager:\n",
    "    def __init__(self, config_file: Path = CONFIG_FILE, param_file: Path = PARAM_FILE):\n",
    "        self.config = read_yaml(config_file)\n",
    "        self.param = read_yaml(param_file)\n",
    "\n",
    "        Path(self.config.artifact_root).mkdir(parents=True, exist_ok=True)\n",
    "    \n",
    "    def get_model_trainer_config(self) -> ModelTrainerConfig:\n",
    "        config = self.config.model_trainer\n",
    "\n",
    "        return ModelTrainerConfig(\n",
    "            model_name=config.model_name,\n",
    "            dataset_dir=config.dataset_dir,\n",
    "            model_save_to_dir=config.model_save_to_dir,\n",
    "            tokenizer_save_to_dir=config.tokenizer_save_to_dir\n",
    "            )\n",
    "    \n",
    "    def get_param(self):\n",
    "        return self.param"
   ]
  },
  {
   "cell_type": "code",
   "execution_count": 5,
   "metadata": {},
   "outputs": [
    {
     "name": "stderr",
     "output_type": "stream",
     "text": [
      "d:\\miniconda\\envs\\text_summarizer\\lib\\site-packages\\tqdm\\auto.py:21: TqdmWarning: IProgress not found. Please update jupyter and ipywidgets. See https://ipywidgets.readthedocs.io/en/stable/user_install.html\n",
      "  from .autonotebook import tqdm as notebook_tqdm\n"
     ]
    },
    {
     "name": "stdout",
     "output_type": "stream",
     "text": [
      "2024-03-01 14:25:51,212 - INFO - config - PyTorch version 2.2.1 available.\n"
     ]
    }
   ],
   "source": [
    "from textSummarizer.logging import logger\n",
    "from datasets import load_from_disk\n",
    "from transformers import AutoModelForSeq2SeqLM, DataCollatorForSeq2Seq, AutoTokenizer\n",
    "from transformers import TrainingArguments, Trainer\n",
    "import torch\n",
    "\n",
    "class ModelTrainer:\n",
    "    def __init__(self, config: ModelTrainerConfig):\n",
    "        self.config = config\n",
    "\n",
    "    def train(self):\n",
    "        device = \"cuda\" if torch.cuda.is_available() else \"cpu\"\n",
    "        logger.info(f\"device: {device}\")\n",
    "\n",
    "\n",
    "        logger.info(f\"Loading tokenizer {self.config.model_name}\")\n",
    "        tokenizer = AutoTokenizer.from_pretrained(self.config.model_name)\n",
    "        logger.info(f\"Loading model {self.config.model_name}\")\n",
    "        model_pegasus = AutoModelForSeq2SeqLM.from_pretrained(self.config.model_name).to(device)\n",
    "        seq2seq_data_collator = DataCollatorForSeq2Seq(tokenizer, model=model_pegasus)\n",
    "        \n",
    "        #loading data \n",
    "        logger.info(f\"Loading data\")\n",
    "        dataset_samsum_pt = load_from_disk(self.config.dataset_dir)\n",
    "\n",
    "        # trainer_args = TrainingArguments(\n",
    "        #     output_dir=self.config.root_dir, num_train_epochs=self.config.num_train_epochs, warmup_steps=self.config.warmup_steps,\n",
    "        #     per_device_train_batch_size=self.config.per_device_train_batch_size, per_device_eval_batch_size=self.config.per_device_train_batch_size,\n",
    "        #     weight_decay=self.config.weight_decay, logging_steps=self.config.logging_steps,\n",
    "        #     evaluation_strategy=self.config.evaluation_strategy, eval_steps=self.config.eval_steps, save_steps=1e6,\n",
    "        #     gradient_accumulation_steps=self.config.gradient_accumulation_steps\n",
    "        # ) \n",
    "\n",
    "        self.config.model_save_to_dir.mkdir(parents=True, exist_ok=True)\n",
    "        self.config.tokenizer_save_to_dir.mkdir(parents=True, exist_ok=True)\n",
    "\n",
    "        trainer_args = TrainingArguments(\n",
    "            output_dir=self.config.model_save_to_dir, num_train_epochs=1, warmup_steps=500,\n",
    "            per_device_train_batch_size=1, per_device_eval_batch_size=1,\n",
    "            weight_decay=0.01, logging_steps=10,\n",
    "            evaluation_strategy='steps', eval_steps=500, save_steps=1e6,\n",
    "            gradient_accumulation_steps=16\n",
    "        ) \n",
    "\n",
    "        trainer = Trainer(model=model_pegasus, args=trainer_args,\n",
    "                  tokenizer=tokenizer, data_collator=seq2seq_data_collator,\n",
    "                  train_dataset=dataset_samsum_pt[\"test\"], \n",
    "                  eval_dataset=dataset_samsum_pt[\"validation\"])\n",
    "        \n",
    "        logger.info(f\"Training...\")\n",
    "        trainer.train()\n",
    "\n",
    "        ## Save model\n",
    "        model_pegasus.save_pretrained(self.config.model_save_to_dir)\n",
    "        ## Save tokenizer\n",
    "        tokenizer.save_pretrained(self.config.tokenizer_save_to_dir)"
   ]
  },
  {
   "cell_type": "code",
   "execution_count": 6,
   "metadata": {},
   "outputs": [
    {
     "name": "stdout",
     "output_type": "stream",
     "text": [
      "2024-03-01 14:26:19,329 - INFO - __init__ - Reading configs\\config.yaml ......\n",
      "2024-03-01 14:26:19,333 - INFO - __init__ - Reading params\\param.yaml ......\n",
      "2024-03-01 14:26:19,336 - INFO - 3924925554 - device: cpu\n",
      "2024-03-01 14:26:19,338 - INFO - 3924925554 - Loading tokenizer google/pegasus-cnn_dailymail\n"
     ]
    },
    {
     "name": "stdout",
     "output_type": "stream",
     "text": [
      "2024-03-01 14:26:23,626 - INFO - 3924925554 - Loading model google/pegasus-cnn_dailymail\n"
     ]
    },
    {
     "name": "stderr",
     "output_type": "stream",
     "text": [
      "Some weights of PegasusForConditionalGeneration were not initialized from the model checkpoint at google/pegasus-cnn_dailymail and are newly initialized: ['model.decoder.embed_positions.weight', 'model.encoder.embed_positions.weight']\n",
      "You should probably TRAIN this model on a down-stream task to be able to use it for predictions and inference.\n"
     ]
    },
    {
     "name": "stdout",
     "output_type": "stream",
     "text": [
      "2024-03-01 14:26:50,719 - INFO - 3924925554 - Loading data\n",
      "2024-03-01 14:26:53,028 - INFO - 3924925554 - Training...\n"
     ]
    },
    {
     "name": "stderr",
     "output_type": "stream",
     "text": [
      "  0%|          | 0/51 [00:00<?, ?it/s]"
     ]
    }
   ],
   "source": [
    "\n",
    "config_manager = ConfigManager()\n",
    "model_trainer_config = config_manager.get_model_trainer_config()\n",
    "model_trainer = ModelTrainer(model_trainer_config)\n",
    "model_trainer.train()"
   ]
  },
  {
   "cell_type": "code",
   "execution_count": null,
   "metadata": {},
   "outputs": [],
   "source": []
  }
 ],
 "metadata": {
  "kernelspec": {
   "display_name": "text_summarizer",
   "language": "python",
   "name": "python3"
  },
  "language_info": {
   "codemirror_mode": {
    "name": "ipython",
    "version": 3
   },
   "file_extension": ".py",
   "mimetype": "text/x-python",
   "name": "python",
   "nbconvert_exporter": "python",
   "pygments_lexer": "ipython3",
   "version": "3.8.18"
  }
 },
 "nbformat": 4,
 "nbformat_minor": 2
}
