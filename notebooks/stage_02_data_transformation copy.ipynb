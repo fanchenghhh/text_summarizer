{
 "cells": [
  {
   "cell_type": "code",
   "execution_count": 1,
   "metadata": {},
   "outputs": [],
   "source": [
    "import os\n",
    "os.environ[\"HF_ENDPOINT\"] = \"https://hf-mirror.com\""
   ]
  },
  {
   "cell_type": "code",
   "execution_count": 2,
   "metadata": {},
   "outputs": [],
   "source": [
    "os.chdir(\"../\")"
   ]
  },
  {
   "cell_type": "code",
   "execution_count": 3,
   "metadata": {},
   "outputs": [],
   "source": [
    "from dataclasses import dataclass\n",
    "from pathlib import Path\n",
    "\n",
    "@dataclass(frozen=True)\n",
    "class DataTransformationConfig:\n",
    "    tokenizer_name: str\n",
    "    dataset_dir: Path\n",
    "    save_to_dir: Path"
   ]
  },
  {
   "cell_type": "code",
   "execution_count": 4,
   "metadata": {},
   "outputs": [],
   "source": [
    "from pathlib import Path\n",
    "from textSummarizer.constants import CONFIG_FILE, PARAM_FILE\n",
    "from textSummarizer.utils import read_yaml\n",
    "\n",
    "\n",
    "class ConfigManager:\n",
    "    def __init__(self, config_file: Path = CONFIG_FILE, param_file: Path = PARAM_FILE):\n",
    "        self.config = read_yaml(config_file)\n",
    "        self.param = read_yaml(param_file)\n",
    "\n",
    "        Path(self.config.artifact_root).mkdir(parents=True, exist_ok=True)\n",
    "    \n",
    "    def get_data_transformation_config(self) -> DataTransformationConfig:\n",
    "        config = self.config.data_transformation\n",
    "\n",
    "        return DataTransformationConfig(\n",
    "            dataset_dir=Path(config.dataset_dir),\n",
    "            tokenizer_name=config.tokenizer_name,\n",
    "            save_to_dir=Path(config.save_to_dir)\n",
    "            )"
   ]
  },
  {
   "cell_type": "code",
   "execution_count": 5,
   "metadata": {},
   "outputs": [
    {
     "name": "stderr",
     "output_type": "stream",
     "text": [
      "d:\\miniconda\\envs\\text_summarizer\\lib\\site-packages\\tqdm\\auto.py:21: TqdmWarning: IProgress not found. Please update jupyter and ipywidgets. See https://ipywidgets.readthedocs.io/en/stable/user_install.html\n",
      "  from .autonotebook import tqdm as notebook_tqdm\n"
     ]
    },
    {
     "name": "stdout",
     "output_type": "stream",
     "text": [
      "2024-03-01 13:38:43,687 - INFO - config - PyTorch version 2.2.1 available.\n"
     ]
    }
   ],
   "source": [
    "import os\n",
    "import urllib.request as request\n",
    "import zipfile\n",
    "from textSummarizer.logging import logger\n",
    "from datasets import load_from_disk\n",
    "from transformers import AutoTokenizer\n",
    "\n",
    "class DataTransformation:\n",
    "    def __init__(self, config: DataTransformationConfig):\n",
    "        self.config = config\n",
    "        self.tokenizer = AutoTokenizer.from_pretrained(config.tokenizer_name)\n",
    "    \n",
    "    def convert_example_to_feature(self, examples):\n",
    "        dialogue_encoding = self.tokenizer(examples[\"dialogue\"], max_length=1024, truncation=True)\n",
    "        with self.tokenizer.as_target_tokenizer():\n",
    "            summary_encoding = self.tokenizer(examples[\"summary\"], max_length=128, truncation=True)\n",
    "        \n",
    "        return {\n",
    "            \"input_ids\": dialogue_encoding[\"input_ids\"],\n",
    "            \"labels\": summary_encoding[\"input_ids\"],\n",
    "            \"attention_mask\": dialogue_encoding[\"attention_mask\"]\n",
    "        }\n",
    "        \n",
    "\n",
    "    def transform(self):\n",
    "        logger.info(f\"Tranforming samples to features...\")\n",
    "        dataset = load_from_disk(self.config.dataset_dir)\n",
    "        feature = dataset.map(self.convert_example_to_feature, batched=True)\n",
    "        self.config.save_to_dir.parent.mkdir(parents=True, exist_ok=True)\n",
    "        logger.info(f\"Saving features to {self.config.save_to_dir}...\")\n",
    "        feature.save_to_disk(self.config.save_to_dir)\n",
    "        \n"
   ]
  },
  {
   "cell_type": "code",
   "execution_count": 7,
   "metadata": {},
   "outputs": [
    {
     "name": "stdout",
     "output_type": "stream",
     "text": [
      "2024-03-01 13:39:36,130 - INFO - __init__ - Reading configs\\config.yaml ......\n",
      "2024-03-01 13:39:36,133 - INFO - __init__ - Reading params\\param.yaml ......\n",
      "2024-03-01 13:39:37,452 - INFO - 1506944596 - Tranforming samples to features...\n"
     ]
    },
    {
     "name": "stderr",
     "output_type": "stream",
     "text": [
      "Map:   0%|          | 0/14732 [00:00<?, ? examples/s]d:\\miniconda\\envs\\text_summarizer\\lib\\site-packages\\transformers\\tokenization_utils_base.py:3892: UserWarning: `as_target_tokenizer` is deprecated and will be removed in v5 of Transformers. You can tokenize your labels by using the argument `text_target` of the regular `__call__` method (either in the same call as your input texts if you use the same keyword arguments, or in a separate call.\n",
      "  warnings.warn(\n",
      "Map: 100%|██████████| 14732/14732 [00:04<00:00, 2989.05 examples/s]\n",
      "Map: 100%|██████████| 819/819 [00:00<00:00, 2934.14 examples/s]\n",
      "Map: 100%|██████████| 818/818 [00:00<00:00, 2735.51 examples/s]"
     ]
    },
    {
     "name": "stdout",
     "output_type": "stream",
     "text": [
      "2024-03-01 13:39:43,095 - INFO - 1506944596 - Saving features to artifacts\\data_transformation\\samsum_dataset...\n"
     ]
    },
    {
     "name": "stderr",
     "output_type": "stream",
     "text": [
      "\n",
      "Saving the dataset (1/1 shards): 100%|██████████| 14732/14732 [00:00<00:00, 186270.21 examples/s]\n",
      "Saving the dataset (1/1 shards): 100%|██████████| 819/819 [00:00<00:00, 58512.21 examples/s]\n",
      "Saving the dataset (1/1 shards): 100%|██████████| 818/818 [00:00<00:00, 58436.79 examples/s]\n"
     ]
    }
   ],
   "source": [
    "\n",
    "config_manager = ConfigManager()\n",
    "data_transformation_config = config_manager.get_data_transformation_config()\n",
    "data_transformation = DataTransformation(data_transformation_config)\n",
    "data_transformation.transform()"
   ]
  },
  {
   "cell_type": "code",
   "execution_count": null,
   "metadata": {},
   "outputs": [],
   "source": []
  }
 ],
 "metadata": {
  "kernelspec": {
   "display_name": "text_summarizer",
   "language": "python",
   "name": "python3"
  },
  "language_info": {
   "codemirror_mode": {
    "name": "ipython",
    "version": 3
   },
   "file_extension": ".py",
   "mimetype": "text/x-python",
   "name": "python",
   "nbconvert_exporter": "python",
   "pygments_lexer": "ipython3",
   "version": "3.8.18"
  }
 },
 "nbformat": 4,
 "nbformat_minor": 2
}
